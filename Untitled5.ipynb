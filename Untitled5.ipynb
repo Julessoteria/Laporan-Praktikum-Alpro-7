{
 "cells": [
  {
   "cell_type": "code",
   "execution_count": 2,
   "id": "1185692f",
   "metadata": {},
   "outputs": [
    {
     "name": "stdout",
     "output_type": "stream",
     "text": [
      "Masukkan kata pertama: ayam\n",
      "Masukkan kata kedua: maya\n",
      "Kedua kata tersebut adalah anagram.\n"
     ]
    }
   ],
   "source": [
    "def check_anagram(word1, word2):\n",
    "    sorted_word1 = sorted(word1.lower())\n",
    "    sorted_word2 = sorted(word2.lower())\n",
    "    \n",
    "    if sorted_word1 == sorted_word2:\n",
    "        return True\n",
    "    else:\n",
    "        return False\n",
    "\n",
    "word1 = input(\"Masukkan kata pertama: \")\n",
    "word2 = input(\"Masukkan kata kedua: \")\n",
    "\n",
    "if check_anagram(word1, word2):\n",
    "    print(\"Kedua kata tersebut adalah anagram.\")\n",
    "else:\n",
    "    print(\"Kedua kata tersebut bukan anagram.\")"
   ]
  },
  {
   "cell_type": "code",
   "execution_count": 13,
   "id": "299a5134",
   "metadata": {},
   "outputs": [],
   "source": [
    "def hitung_frekuensi_kata(kalimat, kata_target):\n",
    "    kalimat_bersih = kalimat.replace(\".\", \"\").replace(\"!\", \"\").replace(\",\", \"\").replace(\"?\", \"\").replace(\":\", \"\").replace(\";\", \"\")\n",
    "    kalimat_lower = kalimat_bersih.lower()\n",
    "    kata_kalimat = kalimat_lower.split()\n",
    "    \n",
    "    frekuensi = 0\n",
    "    for kata in kata_kalimat:\n",
    "        if kata == kata_target:\n",
    "            frekuensi += 1\n",
    "    return frekuensi"
   ]
  },
  {
   "cell_type": "code",
   "execution_count": 10,
   "id": "0b67a7f4",
   "metadata": {},
   "outputs": [
    {
     "name": "stdout",
     "output_type": "stream",
     "text": [
      "Masukkan kalimat anda: saya sangat suka makan gudek\n",
      "Output: saya sangat suka makan gudek\n"
     ]
    }
   ],
   "source": [
    "def hapus_spasi_berlebih(kata):\n",
    "    kata_terpisah = kata.split()\n",
    "    kata_hasil = []\n",
    "\n",
    "    for kata in kata_terpisah:\n",
    "        if kata[0] == \" \":\n",
    "            continue\n",
    "        else:\n",
    "            kata_hasil.append(kata)\n",
    "\n",
    "    kalimat_normal = \" \".join(kata_hasil)\n",
    "    return kalimat_normal\n",
    "\n",
    "kata_input = input(\"Masukkan kalimat anda: \")\n",
    "kalimat_normal = hapus_spasi_berlebih(kata_input)\n",
    "print(f\"Output: {kalimat_normal}\")\n"
   ]
  },
  {
   "cell_type": "code",
   "execution_count": 12,
   "id": "f1e1ca4d",
   "metadata": {},
   "outputs": [
    {
     "name": "stdout",
     "output_type": "stream",
     "text": [
      "Masukkan kalimat anda: aku pusing tujuh keliling\n",
      "Terpendek: aku dan Terpanjang: keliling\n"
     ]
    }
   ],
   "source": [
    "def terpendek_terpanjang(kalimat):\n",
    "    katas = kalimat.split()\n",
    "    terpendek = katas[0]\n",
    "    terpanjang = katas[0]\n",
    "    for kata in katas:\n",
    "        if len(kata) < len(terpendek):\n",
    "            terpendek = kata\n",
    "        elif len(kata) > len(terpanjang):\n",
    "            terpanjang = kata\n",
    "            \n",
    "    return terpendek, terpanjang\n",
    "\n",
    "kalimat = input(\"Masukkan kalimat anda: \")\n",
    "terpendek, terpanjang = terpendek_terpanjang(kalimat)\n",
    "print(f\"Terpendek: {terpendek} dan Terpanjang: {terpanjang}\")\n"
   ]
  },
  {
   "cell_type": "code",
   "execution_count": null,
   "id": "a3f17df2",
   "metadata": {},
   "outputs": [],
   "source": []
  },
  {
   "cell_type": "code",
   "execution_count": null,
   "id": "61fe7d39",
   "metadata": {},
   "outputs": [],
   "source": []
  },
  {
   "cell_type": "code",
   "execution_count": null,
   "id": "5afe103b",
   "metadata": {},
   "outputs": [],
   "source": []
  },
  {
   "cell_type": "code",
   "execution_count": null,
   "id": "daaeadfb",
   "metadata": {},
   "outputs": [],
   "source": []
  },
  {
   "cell_type": "code",
   "execution_count": null,
   "id": "a1c65bd7",
   "metadata": {},
   "outputs": [],
   "source": []
  },
  {
   "cell_type": "code",
   "execution_count": null,
   "id": "d819afe1",
   "metadata": {},
   "outputs": [],
   "source": []
  }
 ],
 "metadata": {
  "kernelspec": {
   "display_name": "Python 3 (ipykernel)",
   "language": "python",
   "name": "python3"
  },
  "language_info": {
   "codemirror_mode": {
    "name": "ipython",
    "version": 3
   },
   "file_extension": ".py",
   "mimetype": "text/x-python",
   "name": "python",
   "nbconvert_exporter": "python",
   "pygments_lexer": "ipython3",
   "version": "3.11.5"
  }
 },
 "nbformat": 4,
 "nbformat_minor": 5
}
